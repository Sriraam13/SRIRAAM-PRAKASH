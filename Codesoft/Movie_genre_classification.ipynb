{
  "cells": [
    {
      "cell_type": "code",
      "execution_count": 98,
      "metadata": {
        "id": "6EtsUQ8JjuWr"
      },
      "outputs": [],
      "source": [
        "#import all the nessary libraries\n",
        "import pandas as pd\n",
        "import numpy as np\n",
        "from sklearn.feature_extraction.text import TfidfVectorizer\n",
        "from sklearn.multioutput import MultiOutputClassifier\n",
        "from sklearn.naive_bayes import MultinomialNB\n",
        "from sklearn.preprocessing import MultiLabelBinarizer\n",
        "from sklearn.metrics import accuracy_score, precision_score, recall_score, f1_score\n",
        "from tqdm import tqdm"
      ]
    },
    {
      "cell_type": "code",
      "execution_count": 99,
      "metadata": {
        "id": "RJLSncXej0i4"
      },
      "outputs": [],
      "source": [
        "#creating genere for all types\n",
        "genre_list = [ 'action', 'adult', 'adventure', 'animation', 'biography', 'comedy', 'crime', 'documentary', 'family', 'fantasy', 'game-show', 'history', 'horror', 'music', 'musical', 'mystery', 'news', 'reality-tv', 'romance', 'sci-fi', 'short', 'sport', 'talk-show', 'thriller', 'war', 'western' ]\n"
      ]
    },
    {
      "cell_type": "code",
      "execution_count": 100,
      "metadata": {
        "id": "y80MbG6sj20u"
      },
      "outputs": [],
      "source": [
        "fallback_genre = 'Unknown'"
      ]
    },
    {
      "cell_type": "code",
      "execution_count": 101,
      "metadata": {
        "id": "D3xNY0DSmSWy"
      },
      "outputs": [],
      "source": [
        "\n",
        "#reading the trained data\n",
        "\n",
        "df = pd.read_csv('/content/train_data.txt', usecols=[0, 1, 2, 3, 4, 5, 6, 7, 8, 9])"
      ]
    },
    {
      "cell_type": "code",
      "execution_count": 102,
      "metadata": {
        "colab": {
          "base_uri": "https://localhost:8080/",
          "height": 833
        },
        "id": "Laav9EI2mspQ",
        "outputId": "d70be0db-2ebe-456e-e3c4-e879313537e1"
      },
      "outputs": [
        {
          "output_type": "execute_result",
          "data": {
            "text/plain": [
              "  1 ::: Oscar et la dame rose (2009) ::: drama ::: Listening in to a conversation between his doctor and parents  \\\n",
              "0  2 ::: Cupid (1997) ::: thriller ::: A brother ...                                                               \n",
              "1                                        3 ::: Young                                                               \n",
              "2  4 ::: The Secret Sin (1915) ::: drama ::: To h...                                                               \n",
              "3  5 ::: The Unrecovered (2007) ::: drama ::: The...                                                               \n",
              "4  6 ::: Quality Control (2011) ::: documentary :...                                                               \n",
              "\n",
              "   10-year-old Oscar learns what nobody has the courage to tell him. He only has a few weeks to live. Furious  \\\n",
              "0                                                NaN                                                            \n",
              "1   Wild and Wonderful (1980) ::: adult ::: As th...                                                            \n",
              "2   Edith and her twin sister Grace work as seams...                                                            \n",
              "3   but also to the state of the nation at large....                                                            \n",
              "4                              over a two day period                                                            \n",
              "\n",
              "   he refuses to speak to anyone except straight-talking Rose  \\\n",
              "0                                                NaN            \n",
              "1   little does the tour guide suspect that the s...            \n",
              "2   Grace falls prey to the temptations of Chinat...            \n",
              "3   The Unrecovered examines the effect of terror...            \n",
              "4            in a dry cleaners facility in Pritchard            \n",
              "\n",
              "   the lady in pink he meets on the hospital stairs. As Christmas approaches  \\\n",
              "0                                                NaN                           \n",
              "1                           during the lecture films                           \n",
              "2   a condition worsened by a misguided physician...                           \n",
              "3   the way a state of heightened anxiety and/or ...                           \n",
              "4                                            Alabama                           \n",
              "\n",
              "   Rose uses her fantastical experiences as a professional wrestler  \\\n",
              "0                                                NaN                  \n",
              "1   the coeds drift into dreams of the most eroti...                  \n",
              "2   the family enjoys a new prosperity and the si...                  \n",
              "3                                            empathy                  \n",
              "4                                        near Mobile                  \n",
              "\n",
              "                                     her imagination  \\\n",
              "0                                                NaN   \n",
              "1   they release the emotion of the fantasies in ...   \n",
              "2          a fellow oil prospector. To Grace's shock   \n",
              "3   and paranoia relate to one another in the wak...   \n",
              "4   Quality Control exhibits the acts as well the...   \n",
              "\n",
              "   wit and charm to allow Oscar to live life and love to the full  \\\n",
              "0                                                NaN                \n",
              "1                             but as the bus departs                \n",
              "2   Jack falls in love with Edith and in her jeal...                \n",
              "3                                                NaN                \n",
              "4   in Everson's words \"the fine folks of Alabama...                \n",
              "\n",
              "        in the company of his friends Pop Corn  \\\n",
              "0                                          NaN   \n",
              "1   everyone admits it was quite an education.   \n",
              "2                  Grace tells Jack that Edith   \n",
              "3                                          NaN   \n",
              "4                           in form and rhythm   \n",
              "\n",
              "                                            Einstein  \\\n",
              "0                                                NaN   \n",
              "1                                                NaN   \n",
              "2                                            not she   \n",
              "3                                                NaN   \n",
              "4   to certain scenarios in Everson's award-winni...   \n",
              "\n",
              "          Bacon and childhood sweetheart Peggy Blue.  \n",
              "0                                                NaN  \n",
              "1                                                NaN  \n",
              "2   has a drug problem. Hinting that her sister w...  \n",
              "3                                                NaN  \n",
              "4   including Erie (IFFR 2010) and in thematic co...  "
            ],
            "text/html": [
              "\n",
              "  <div id=\"df-b75aa176-8dcb-4858-8b31-2bc773775274\" class=\"colab-df-container\">\n",
              "    <div>\n",
              "<style scoped>\n",
              "    .dataframe tbody tr th:only-of-type {\n",
              "        vertical-align: middle;\n",
              "    }\n",
              "\n",
              "    .dataframe tbody tr th {\n",
              "        vertical-align: top;\n",
              "    }\n",
              "\n",
              "    .dataframe thead th {\n",
              "        text-align: right;\n",
              "    }\n",
              "</style>\n",
              "<table border=\"1\" class=\"dataframe\">\n",
              "  <thead>\n",
              "    <tr style=\"text-align: right;\">\n",
              "      <th></th>\n",
              "      <th>1 ::: Oscar et la dame rose (2009) ::: drama ::: Listening in to a conversation between his doctor and parents</th>\n",
              "      <th>10-year-old Oscar learns what nobody has the courage to tell him. He only has a few weeks to live. Furious</th>\n",
              "      <th>he refuses to speak to anyone except straight-talking Rose</th>\n",
              "      <th>the lady in pink he meets on the hospital stairs. As Christmas approaches</th>\n",
              "      <th>Rose uses her fantastical experiences as a professional wrestler</th>\n",
              "      <th>her imagination</th>\n",
              "      <th>wit and charm to allow Oscar to live life and love to the full</th>\n",
              "      <th>in the company of his friends Pop Corn</th>\n",
              "      <th>Einstein</th>\n",
              "      <th>Bacon and childhood sweetheart Peggy Blue.</th>\n",
              "    </tr>\n",
              "  </thead>\n",
              "  <tbody>\n",
              "    <tr>\n",
              "      <th>0</th>\n",
              "      <td>2 ::: Cupid (1997) ::: thriller ::: A brother ...</td>\n",
              "      <td>NaN</td>\n",
              "      <td>NaN</td>\n",
              "      <td>NaN</td>\n",
              "      <td>NaN</td>\n",
              "      <td>NaN</td>\n",
              "      <td>NaN</td>\n",
              "      <td>NaN</td>\n",
              "      <td>NaN</td>\n",
              "      <td>NaN</td>\n",
              "    </tr>\n",
              "    <tr>\n",
              "      <th>1</th>\n",
              "      <td>3 ::: Young</td>\n",
              "      <td>Wild and Wonderful (1980) ::: adult ::: As th...</td>\n",
              "      <td>little does the tour guide suspect that the s...</td>\n",
              "      <td>during the lecture films</td>\n",
              "      <td>the coeds drift into dreams of the most eroti...</td>\n",
              "      <td>they release the emotion of the fantasies in ...</td>\n",
              "      <td>but as the bus departs</td>\n",
              "      <td>everyone admits it was quite an education.</td>\n",
              "      <td>NaN</td>\n",
              "      <td>NaN</td>\n",
              "    </tr>\n",
              "    <tr>\n",
              "      <th>2</th>\n",
              "      <td>4 ::: The Secret Sin (1915) ::: drama ::: To h...</td>\n",
              "      <td>Edith and her twin sister Grace work as seams...</td>\n",
              "      <td>Grace falls prey to the temptations of Chinat...</td>\n",
              "      <td>a condition worsened by a misguided physician...</td>\n",
              "      <td>the family enjoys a new prosperity and the si...</td>\n",
              "      <td>a fellow oil prospector. To Grace's shock</td>\n",
              "      <td>Jack falls in love with Edith and in her jeal...</td>\n",
              "      <td>Grace tells Jack that Edith</td>\n",
              "      <td>not she</td>\n",
              "      <td>has a drug problem. Hinting that her sister w...</td>\n",
              "    </tr>\n",
              "    <tr>\n",
              "      <th>3</th>\n",
              "      <td>5 ::: The Unrecovered (2007) ::: drama ::: The...</td>\n",
              "      <td>but also to the state of the nation at large....</td>\n",
              "      <td>The Unrecovered examines the effect of terror...</td>\n",
              "      <td>the way a state of heightened anxiety and/or ...</td>\n",
              "      <td>empathy</td>\n",
              "      <td>and paranoia relate to one another in the wak...</td>\n",
              "      <td>NaN</td>\n",
              "      <td>NaN</td>\n",
              "      <td>NaN</td>\n",
              "      <td>NaN</td>\n",
              "    </tr>\n",
              "    <tr>\n",
              "      <th>4</th>\n",
              "      <td>6 ::: Quality Control (2011) ::: documentary :...</td>\n",
              "      <td>over a two day period</td>\n",
              "      <td>in a dry cleaners facility in Pritchard</td>\n",
              "      <td>Alabama</td>\n",
              "      <td>near Mobile</td>\n",
              "      <td>Quality Control exhibits the acts as well the...</td>\n",
              "      <td>in Everson's words \"the fine folks of Alabama...</td>\n",
              "      <td>in form and rhythm</td>\n",
              "      <td>to certain scenarios in Everson's award-winni...</td>\n",
              "      <td>including Erie (IFFR 2010) and in thematic co...</td>\n",
              "    </tr>\n",
              "  </tbody>\n",
              "</table>\n",
              "</div>\n",
              "    <div class=\"colab-df-buttons\">\n",
              "\n",
              "  <div class=\"colab-df-container\">\n",
              "    <button class=\"colab-df-convert\" onclick=\"convertToInteractive('df-b75aa176-8dcb-4858-8b31-2bc773775274')\"\n",
              "            title=\"Convert this dataframe to an interactive table.\"\n",
              "            style=\"display:none;\">\n",
              "\n",
              "  <svg xmlns=\"http://www.w3.org/2000/svg\" height=\"24px\" viewBox=\"0 -960 960 960\">\n",
              "    <path d=\"M120-120v-720h720v720H120Zm60-500h600v-160H180v160Zm220 220h160v-160H400v160Zm0 220h160v-160H400v160ZM180-400h160v-160H180v160Zm440 0h160v-160H620v160ZM180-180h160v-160H180v160Zm440 0h160v-160H620v160Z\"/>\n",
              "  </svg>\n",
              "    </button>\n",
              "\n",
              "  <style>\n",
              "    .colab-df-container {\n",
              "      display:flex;\n",
              "      gap: 12px;\n",
              "    }\n",
              "\n",
              "    .colab-df-convert {\n",
              "      background-color: #E8F0FE;\n",
              "      border: none;\n",
              "      border-radius: 50%;\n",
              "      cursor: pointer;\n",
              "      display: none;\n",
              "      fill: #1967D2;\n",
              "      height: 32px;\n",
              "      padding: 0 0 0 0;\n",
              "      width: 32px;\n",
              "    }\n",
              "\n",
              "    .colab-df-convert:hover {\n",
              "      background-color: #E2EBFA;\n",
              "      box-shadow: 0px 1px 2px rgba(60, 64, 67, 0.3), 0px 1px 3px 1px rgba(60, 64, 67, 0.15);\n",
              "      fill: #174EA6;\n",
              "    }\n",
              "\n",
              "    .colab-df-buttons div {\n",
              "      margin-bottom: 4px;\n",
              "    }\n",
              "\n",
              "    [theme=dark] .colab-df-convert {\n",
              "      background-color: #3B4455;\n",
              "      fill: #D2E3FC;\n",
              "    }\n",
              "\n",
              "    [theme=dark] .colab-df-convert:hover {\n",
              "      background-color: #434B5C;\n",
              "      box-shadow: 0px 1px 3px 1px rgba(0, 0, 0, 0.15);\n",
              "      filter: drop-shadow(0px 1px 2px rgba(0, 0, 0, 0.3));\n",
              "      fill: #FFFFFF;\n",
              "    }\n",
              "  </style>\n",
              "\n",
              "    <script>\n",
              "      const buttonEl =\n",
              "        document.querySelector('#df-b75aa176-8dcb-4858-8b31-2bc773775274 button.colab-df-convert');\n",
              "      buttonEl.style.display =\n",
              "        google.colab.kernel.accessAllowed ? 'block' : 'none';\n",
              "\n",
              "      async function convertToInteractive(key) {\n",
              "        const element = document.querySelector('#df-b75aa176-8dcb-4858-8b31-2bc773775274');\n",
              "        const dataTable =\n",
              "          await google.colab.kernel.invokeFunction('convertToInteractive',\n",
              "                                                    [key], {});\n",
              "        if (!dataTable) return;\n",
              "\n",
              "        const docLinkHtml = 'Like what you see? Visit the ' +\n",
              "          '<a target=\"_blank\" href=https://colab.research.google.com/notebooks/data_table.ipynb>data table notebook</a>'\n",
              "          + ' to learn more about interactive tables.';\n",
              "        element.innerHTML = '';\n",
              "        dataTable['output_type'] = 'display_data';\n",
              "        await google.colab.output.renderOutput(dataTable, element);\n",
              "        const docLink = document.createElement('div');\n",
              "        docLink.innerHTML = docLinkHtml;\n",
              "        element.appendChild(docLink);\n",
              "      }\n",
              "    </script>\n",
              "  </div>\n",
              "\n",
              "\n",
              "<div id=\"df-c326d388-c7be-4d6b-a807-d32b308d045a\">\n",
              "  <button class=\"colab-df-quickchart\" onclick=\"quickchart('df-c326d388-c7be-4d6b-a807-d32b308d045a')\"\n",
              "            title=\"Suggest charts\"\n",
              "            style=\"display:none;\">\n",
              "\n",
              "<svg xmlns=\"http://www.w3.org/2000/svg\" height=\"24px\"viewBox=\"0 0 24 24\"\n",
              "     width=\"24px\">\n",
              "    <g>\n",
              "        <path d=\"M19 3H5c-1.1 0-2 .9-2 2v14c0 1.1.9 2 2 2h14c1.1 0 2-.9 2-2V5c0-1.1-.9-2-2-2zM9 17H7v-7h2v7zm4 0h-2V7h2v10zm4 0h-2v-4h2v4z\"/>\n",
              "    </g>\n",
              "</svg>\n",
              "  </button>\n",
              "\n",
              "<style>\n",
              "  .colab-df-quickchart {\n",
              "      --bg-color: #E8F0FE;\n",
              "      --fill-color: #1967D2;\n",
              "      --hover-bg-color: #E2EBFA;\n",
              "      --hover-fill-color: #174EA6;\n",
              "      --disabled-fill-color: #AAA;\n",
              "      --disabled-bg-color: #DDD;\n",
              "  }\n",
              "\n",
              "  [theme=dark] .colab-df-quickchart {\n",
              "      --bg-color: #3B4455;\n",
              "      --fill-color: #D2E3FC;\n",
              "      --hover-bg-color: #434B5C;\n",
              "      --hover-fill-color: #FFFFFF;\n",
              "      --disabled-bg-color: #3B4455;\n",
              "      --disabled-fill-color: #666;\n",
              "  }\n",
              "\n",
              "  .colab-df-quickchart {\n",
              "    background-color: var(--bg-color);\n",
              "    border: none;\n",
              "    border-radius: 50%;\n",
              "    cursor: pointer;\n",
              "    display: none;\n",
              "    fill: var(--fill-color);\n",
              "    height: 32px;\n",
              "    padding: 0;\n",
              "    width: 32px;\n",
              "  }\n",
              "\n",
              "  .colab-df-quickchart:hover {\n",
              "    background-color: var(--hover-bg-color);\n",
              "    box-shadow: 0 1px 2px rgba(60, 64, 67, 0.3), 0 1px 3px 1px rgba(60, 64, 67, 0.15);\n",
              "    fill: var(--button-hover-fill-color);\n",
              "  }\n",
              "\n",
              "  .colab-df-quickchart-complete:disabled,\n",
              "  .colab-df-quickchart-complete:disabled:hover {\n",
              "    background-color: var(--disabled-bg-color);\n",
              "    fill: var(--disabled-fill-color);\n",
              "    box-shadow: none;\n",
              "  }\n",
              "\n",
              "  .colab-df-spinner {\n",
              "    border: 2px solid var(--fill-color);\n",
              "    border-color: transparent;\n",
              "    border-bottom-color: var(--fill-color);\n",
              "    animation:\n",
              "      spin 1s steps(1) infinite;\n",
              "  }\n",
              "\n",
              "  @keyframes spin {\n",
              "    0% {\n",
              "      border-color: transparent;\n",
              "      border-bottom-color: var(--fill-color);\n",
              "      border-left-color: var(--fill-color);\n",
              "    }\n",
              "    20% {\n",
              "      border-color: transparent;\n",
              "      border-left-color: var(--fill-color);\n",
              "      border-top-color: var(--fill-color);\n",
              "    }\n",
              "    30% {\n",
              "      border-color: transparent;\n",
              "      border-left-color: var(--fill-color);\n",
              "      border-top-color: var(--fill-color);\n",
              "      border-right-color: var(--fill-color);\n",
              "    }\n",
              "    40% {\n",
              "      border-color: transparent;\n",
              "      border-right-color: var(--fill-color);\n",
              "      border-top-color: var(--fill-color);\n",
              "    }\n",
              "    60% {\n",
              "      border-color: transparent;\n",
              "      border-right-color: var(--fill-color);\n",
              "    }\n",
              "    80% {\n",
              "      border-color: transparent;\n",
              "      border-right-color: var(--fill-color);\n",
              "      border-bottom-color: var(--fill-color);\n",
              "    }\n",
              "    90% {\n",
              "      border-color: transparent;\n",
              "      border-bottom-color: var(--fill-color);\n",
              "    }\n",
              "  }\n",
              "</style>\n",
              "\n",
              "  <script>\n",
              "    async function quickchart(key) {\n",
              "      const quickchartButtonEl =\n",
              "        document.querySelector('#' + key + ' button');\n",
              "      quickchartButtonEl.disabled = true;  // To prevent multiple clicks.\n",
              "      quickchartButtonEl.classList.add('colab-df-spinner');\n",
              "      try {\n",
              "        const charts = await google.colab.kernel.invokeFunction(\n",
              "            'suggestCharts', [key], {});\n",
              "      } catch (error) {\n",
              "        console.error('Error during call to suggestCharts:', error);\n",
              "      }\n",
              "      quickchartButtonEl.classList.remove('colab-df-spinner');\n",
              "      quickchartButtonEl.classList.add('colab-df-quickchart-complete');\n",
              "    }\n",
              "    (() => {\n",
              "      let quickchartButtonEl =\n",
              "        document.querySelector('#df-c326d388-c7be-4d6b-a807-d32b308d045a button');\n",
              "      quickchartButtonEl.style.display =\n",
              "        google.colab.kernel.accessAllowed ? 'block' : 'none';\n",
              "    })();\n",
              "  </script>\n",
              "</div>\n",
              "\n",
              "    </div>\n",
              "  </div>\n"
            ]
          },
          "metadata": {},
          "execution_count": 102
        }
      ],
      "source": [
        "df.head()"
      ]
    },
    {
      "cell_type": "markdown",
      "source": [],
      "metadata": {
        "id": "7tfvCiAzacHj"
      }
    },
    {
      "cell_type": "code",
      "execution_count": 46,
      "metadata": {
        "id": "7VbKQnkcWel8"
      },
      "outputs": [],
      "source": []
    },
    {
      "cell_type": "markdown",
      "source": [
        "**Loading Train Data**\n"
      ],
      "metadata": {
        "id": "2vM2D3BgadX7"
      }
    },
    {
      "cell_type": "code",
      "execution_count": 103,
      "metadata": {
        "colab": {
          "base_uri": "https://localhost:8080/"
        },
        "id": "WvJp0Bamj5Cn",
        "outputId": "b5dae086-1da1-416f-ac2d-e5054d3d3216"
      },
      "outputs": [
        {
          "output_type": "stream",
          "name": "stderr",
          "text": [
            "Loading Train Data: 100%|██████████| 50/50 [00:00<00:00, 102.92it/s]\n"
          ]
        }
      ],
      "source": [
        "#training the data with tqdm\n",
        "try:\n",
        "    with tqdm(total=50, desc=\"Loading Train Data\") as pbar:\n",
        "        train_data = pd.read_csv('/content/train_data.txt', sep=':::', header=None, names=['SerialNumber', 'MOVIE_NAME', 'GENRE', 'MOVIE_PLOT'], engine='python')\n",
        "        pbar.update(50)\n",
        "except Exception as e:\n",
        "    print(f\"Error loading train_data: {e}\")\n",
        "    raise"
      ]
    },
    {
      "cell_type": "code",
      "execution_count": 104,
      "metadata": {
        "id": "xKm7ZOHYj7KG"
      },
      "outputs": [],
      "source": [
        "X_train = train_data['MOVIE_PLOT'].astype(str).apply(lambda doc: doc.lower())\n",
        "genre_labels = [genre.split(', ') for genre in train_data['GENRE']]\n",
        "mlb = MultiLabelBinarizer()\n",
        "y_train = mlb.fit_transform(genre_labels)"
      ]
    },
    {
      "cell_type": "code",
      "execution_count": 105,
      "metadata": {
        "id": "_KcTjXR2kWyH"
      },
      "outputs": [],
      "source": [
        "tfidf_vectorizer = TfidfVectorizer(max_features=5000)  # You can adjust max_features\n"
      ]
    },
    {
      "cell_type": "markdown",
      "source": [
        "**Vectorizing Training Data**"
      ],
      "metadata": {
        "id": "wrqmyr9kaiDU"
      }
    },
    {
      "cell_type": "code",
      "execution_count": 106,
      "metadata": {
        "colab": {
          "base_uri": "https://localhost:8080/"
        },
        "id": "G0DdgzNLkaLn",
        "outputId": "dfdfa059-49fd-4454-9be2-261cd63c6997"
      },
      "outputs": [
        {
          "output_type": "stream",
          "name": "stderr",
          "text": [
            "Vectorizing Training Data: 100%|██████████| 100/100 [00:06<00:00, 15.39it/s]\n"
          ]
        }
      ],
      "source": [
        "with tqdm(total=100, desc=\"Vectorizing Training Data\") as pbar:\n",
        "    X_train_tfidf = tfidf_vectorizer.fit_transform(X_train)\n",
        "    pbar.update(100)\n"
      ]
    },
    {
      "cell_type": "code",
      "execution_count": 107,
      "metadata": {
        "id": "SvS7P7Vgkc0H",
        "colab": {
          "base_uri": "https://localhost:8080/"
        },
        "outputId": "515fdde8-455b-4fc7-cc6f-dc2785323393"
      },
      "outputs": [
        {
          "output_type": "stream",
          "name": "stderr",
          "text": [
            "Training Model: 100%|██████████| 100/100 [00:00<00:00, 119.47it/s]\n"
          ]
        }
      ],
      "source": [
        "with tqdm(total=100, desc=\"Training Model\") as pbar: # training the model with navies bayes classifier\n",
        "    naive_bayes = MultinomialNB()\n",
        "    multi_output_classifier = MultiOutputClassifier(naive_bayes)\n",
        "    multi_output_classifier.fit(X_train_tfidf, y_train)\n",
        "    pbar.update(100)"
      ]
    },
    {
      "cell_type": "markdown",
      "source": [
        "**Loading test Data**\n",
        "\n",
        "\n",
        "\n",
        "\n",
        "\n",
        "\n"
      ],
      "metadata": {
        "id": "bv4W92_EbWaC"
      }
    },
    {
      "cell_type": "code",
      "execution_count": 108,
      "metadata": {
        "id": "RP1OskY5kgff",
        "colab": {
          "base_uri": "https://localhost:8080/"
        },
        "outputId": "de0ec155-3e7c-485e-a5a5-d171eae46fff"
      },
      "outputs": [
        {
          "output_type": "stream",
          "name": "stderr",
          "text": [
            "Loading Test Data: 100%|██████████| 100/100 [00:00<00:00, 193.32it/s]\n"
          ]
        }
      ],
      "source": [
        "try:\n",
        "    with tqdm(total=100, desc=\"Loading Test Data\") as pbar:\n",
        "        test_data = pd.read_csv('test_data.txt', sep=':::', header=None, names=['SerialNumber', 'MOVIE_NAME', 'MOVIE_PLOT'], engine='python')\n",
        "        pbar.update(100)\n",
        "except Exception as e:\n",
        "    print(f\"Error loading test_data: {e}\")\n",
        "    raise"
      ]
    },
    {
      "cell_type": "code",
      "execution_count": 109,
      "metadata": {
        "id": "OLco-9tTkjlP"
      },
      "outputs": [],
      "source": [
        "X_test = test_data['MOVIE_PLOT'].astype(str).apply(lambda doc: doc.lower())\n"
      ]
    },
    {
      "cell_type": "markdown",
      "source": [
        "**Vectorizing Test Data**"
      ],
      "metadata": {
        "id": "_kIhbMknasr7"
      }
    },
    {
      "cell_type": "code",
      "execution_count": 111,
      "metadata": {
        "colab": {
          "base_uri": "https://localhost:8080/"
        },
        "id": "X1VIVTg8kl5P",
        "outputId": "7726b4b0-a870-45d3-9668-015653e1bb40"
      },
      "outputs": [
        {
          "output_type": "stream",
          "name": "stderr",
          "text": [
            "Vectorizing Test Data: 100%|██████████| 100/100 [00:06<00:00, 15.48it/s]\n"
          ]
        }
      ],
      "source": [
        "with tqdm(total=100, desc=\"Vectorizing Test Data\") as pbar:\n",
        "    X_test_tfidf = tfidf_vectorizer.transform(X_test)\n",
        "    pbar.update(100)"
      ]
    },
    {
      "cell_type": "markdown",
      "source": [
        "**Predicting Test Data**"
      ],
      "metadata": {
        "id": "H21g6Y2dayaa"
      }
    },
    {
      "cell_type": "code",
      "execution_count": 112,
      "metadata": {
        "colab": {
          "base_uri": "https://localhost:8080/"
        },
        "id": "SpOai5NnkpiP",
        "outputId": "d889f48b-0abb-4b88-d6bc-9613fd253a99"
      },
      "outputs": [
        {
          "output_type": "stream",
          "name": "stderr",
          "text": [
            "Predicting on Test Data: 100%|██████████| 100/100 [00:00<00:00, 197.58it/s]\n"
          ]
        }
      ],
      "source": [
        "with tqdm(total=100, desc=\"Predicting on Test Data\") as pbar:\n",
        "    y_pred = multi_output_classifier.predict(X_test_tfidf)\n",
        "    pbar.update(100)"
      ]
    },
    {
      "cell_type": "code",
      "execution_count": 113,
      "metadata": {
        "id": "O7L7zieHksgP"
      },
      "outputs": [],
      "source": [
        "test_movie_names = test_data['MOVIE_NAME']\n",
        "predicted_genres = mlb.inverse_transform(y_pred)\n",
        "test_results = pd.DataFrame({'MOVIE_NAME': test_movie_names, 'PREDICTED_GENRES': predicted_genres})"
      ]
    },
    {
      "cell_type": "code",
      "execution_count": 114,
      "metadata": {
        "id": "7ouF4jRqkwAH"
      },
      "outputs": [],
      "source": [
        "test_results['PREDICTED_GENRES'] = test_results['PREDICTED_GENRES'].apply(lambda genres: [fallback_genre] if len(genres) == 0 else genres)\n"
      ]
    },
    {
      "cell_type": "code",
      "execution_count": 115,
      "metadata": {
        "id": "qzlkRQwhkxc_"
      },
      "outputs": [],
      "source": [
        "with open(\"model_classification.txt\", \"w\", encoding=\"utf-8\") as output_file:\n",
        "    for _, row in test_results.iterrows():\n",
        "        movie_name = row['MOVIE_NAME']\n",
        "        genre_str = ', '.join(row['PREDICTED_GENRES'])\n",
        "        output_file.write(f\"{movie_name} ::: {genre_str}\\n\")"
      ]
    },
    {
      "cell_type": "code",
      "execution_count": 115,
      "metadata": {
        "id": "JnyoF2NxXU-8"
      },
      "outputs": [],
      "source": []
    },
    {
      "cell_type": "code",
      "execution_count": 116,
      "metadata": {
        "id": "m9_44yPfk1NH"
      },
      "outputs": [],
      "source": [
        "y_train_pred = multi_output_classifier.predict(X_train_tfidf)"
      ]
    },
    {
      "cell_type": "code",
      "execution_count": 117,
      "metadata": {
        "id": "muL0o3xSk4oX"
      },
      "outputs": [],
      "source": [
        "accuracy = accuracy_score(y_train, y_train_pred)\n",
        "precision = precision_score(y_train, y_train_pred, average='micro')\n",
        "recall = recall_score(y_train, y_train_pred, average='micro')\n",
        "f1 = f1_score(y_train, y_train_pred, average='micro')\n"
      ]
    },
    {
      "cell_type": "markdown",
      "source": [
        "**Saving the model in text file**"
      ],
      "metadata": {
        "id": "84mdqsTfa_JE"
      }
    },
    {
      "cell_type": "code",
      "execution_count": 118,
      "metadata": {
        "id": "YQrK6utCk-6O"
      },
      "outputs": [],
      "source": [
        "with open(\"model_classification.txt\", \"a\", encoding=\"utf-8\") as output_file:\n",
        "    output_file.write(\"\\n\\nModel Evaluation Metrics:\\n\")\n",
        "    output_file.write(f\"Accuracy: {accuracy * 100:.2f}%\\n\")\n",
        "    output_file.write(f\"Precision: {precision:.2f}\\n\")\n",
        "    output_file.write(f\"Recall: {recall:.2f}\\n\")\n",
        "    output_file.write(f\"F1-score: {f1:.2f}\\n\")"
      ]
    },
    {
      "cell_type": "code",
      "execution_count": 67,
      "metadata": {
        "id": "Nt2ewp0PlGNP"
      },
      "outputs": [],
      "source": []
    }
  ],
  "metadata": {
    "colab": {
      "provenance": []
    },
    "kernelspec": {
      "display_name": "Python 3",
      "name": "python3"
    },
    "language_info": {
      "name": "python"
    }
  },
  "nbformat": 4,
  "nbformat_minor": 0
}